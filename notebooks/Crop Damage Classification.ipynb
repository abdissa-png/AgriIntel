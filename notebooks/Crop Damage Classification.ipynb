{
  "cells": [
    {
      "cell_type": "code",
      "execution_count": 4,
      "id": "c29734ac-07cb-40d8-b454-82da5efa812a",
      "metadata": {
        "execution": {
          "iopub.execute_input": "2024-01-31T12:35:25.773983Z",
          "iopub.status.busy": "2024-01-31T12:35:25.773651Z",
          "iopub.status.idle": "2024-01-31T12:35:26.154163Z",
          "shell.execute_reply": "2024-01-31T12:35:26.153526Z",
          "shell.execute_reply.started": "2024-01-31T12:35:25.773956Z"
        },
        "id": "c29734ac-07cb-40d8-b454-82da5efa812a",
        "tags": []
      },
      "outputs": [],
      "source": [
        "import pandas as pd\n"
      ]
    },
    {
      "cell_type": "code",
      "execution_count": 5,
      "id": "5f8083f2-0dd6-4513-83db-86880cf5fc8e",
      "metadata": {
        "execution": {
          "iopub.execute_input": "2024-01-31T12:35:26.155740Z",
          "iopub.status.busy": "2024-01-31T12:35:26.155357Z",
          "iopub.status.idle": "2024-01-31T12:35:26.224126Z",
          "shell.execute_reply": "2024-01-31T12:35:26.223506Z",
          "shell.execute_reply.started": "2024-01-31T12:35:26.155714Z"
        },
        "id": "5f8083f2-0dd6-4513-83db-86880cf5fc8e",
        "tags": []
      },
      "outputs": [],
      "source": [
        "Train            = pd.read_csv(BASE_DIR+'cgiar-crop-damage-classification-challenge/Train.csv')\n",
        "Test             = pd.read_csv(BASE_DIR+'cgiar-crop-damage-classification-challenge/Test.csv')\n",
        "SampleSubmission = pd.read_csv(BASE_DIR+'cgiar-crop-damage-classification-challenge/SampleSubmission.csv')\n",
        "Train = Train[Train['damage'] != 'ND']\n",
        "Train = Train[Train['damage'] != 'other']"
      ]
    },
    {
      "cell_type": "code",
      "execution_count": 6,
      "id": "40304d4d-74c2-4e50-bdaf-5691ce579eeb",
      "metadata": {
        "colab": {
          "base_uri": "https://localhost:8080/",
          "height": 206
        },
        "execution": {
          "iopub.execute_input": "2024-01-31T12:35:26.225899Z",
          "iopub.status.busy": "2024-01-31T12:35:26.225266Z",
          "iopub.status.idle": "2024-01-31T12:35:26.292111Z",
          "shell.execute_reply": "2024-01-31T12:35:26.291345Z",
          "shell.execute_reply.started": "2024-01-31T12:35:26.225856Z"
        },
        "id": "40304d4d-74c2-4e50-bdaf-5691ce579eeb",
        "outputId": "3ea0864d-838a-47fe-91c6-1363796e7e29",
        "tags": []
      },
      "outputs": [
        {
          "data": {
            "text/html": [
              "\n",
              "  <div id=\"df-209e591e-f959-4fe2-9b17-d48dbd51e733\" class=\"colab-df-container\">\n",
              "    <div>\n",
              "<style scoped>\n",
              "    .dataframe tbody tr th:only-of-type {\n",
              "        vertical-align: middle;\n",
              "    }\n",
              "\n",
              "    .dataframe tbody tr th {\n",
              "        vertical-align: top;\n",
              "    }\n",
              "\n",
              "    .dataframe thead th {\n",
              "        text-align: right;\n",
              "    }\n",
              "</style>\n",
              "<table border=\"1\" class=\"dataframe\">\n",
              "  <thead>\n",
              "    <tr style=\"text-align: right;\">\n",
              "      <th></th>\n",
              "      <th>ID</th>\n",
              "      <th>damage</th>\n",
              "      <th>filename</th>\n",
              "    </tr>\n",
              "  </thead>\n",
              "  <tbody>\n",
              "    <tr>\n",
              "      <th>0</th>\n",
              "      <td>ID_UBHORS</td>\n",
              "      <td>WD</td>\n",
              "      <td>d036341be8d6cd59851cb80bcc9a70cc9fbdba30.jpg</td>\n",
              "    </tr>\n",
              "    <tr>\n",
              "      <th>1</th>\n",
              "      <td>ID_9DSOLZ</td>\n",
              "      <td>G</td>\n",
              "      <td>9ea16180c50d0cd539897eefbfe585314e50a56b.jpg</td>\n",
              "    </tr>\n",
              "    <tr>\n",
              "      <th>2</th>\n",
              "      <td>ID_JHLM0G</td>\n",
              "      <td>G</td>\n",
              "      <td>b6b564844041bc68774a553eaf43d61654657dd9.jpg</td>\n",
              "    </tr>\n",
              "    <tr>\n",
              "      <th>3</th>\n",
              "      <td>ID_ATREIJ</td>\n",
              "      <td>DR</td>\n",
              "      <td>62262859f0cd411aaf484082ed3ef0b625bc452a.jpg</td>\n",
              "    </tr>\n",
              "    <tr>\n",
              "      <th>4</th>\n",
              "      <td>ID_L2GAD6</td>\n",
              "      <td>G</td>\n",
              "      <td>03b6e2a8ace7cb611eccba289f3c83d9bd497584.jpg</td>\n",
              "    </tr>\n",
              "  </tbody>\n",
              "</table>\n",
              "</div>\n",
              "    <div class=\"colab-df-buttons\">\n",
              "\n",
              "  <div class=\"colab-df-container\">\n",
              "    <button class=\"colab-df-convert\" onclick=\"convertToInteractive('df-209e591e-f959-4fe2-9b17-d48dbd51e733')\"\n",
              "            title=\"Convert this dataframe to an interactive table.\"\n",
              "            style=\"display:none;\">\n",
              "\n",
              "  <svg xmlns=\"http://www.w3.org/2000/svg\" height=\"24px\" viewBox=\"0 -960 960 960\">\n",
              "    <path d=\"M120-120v-720h720v720H120Zm60-500h600v-160H180v160Zm220 220h160v-160H400v160Zm0 220h160v-160H400v160ZM180-400h160v-160H180v160Zm440 0h160v-160H620v160ZM180-180h160v-160H180v160Zm440 0h160v-160H620v160Z\"/>\n",
              "  </svg>\n",
              "    </button>\n",
              "\n",
              "  <style>\n",
              "    .colab-df-container {\n",
              "      display:flex;\n",
              "      gap: 12px;\n",
              "    }\n",
              "\n",
              "    .colab-df-convert {\n",
              "      background-color: #E8F0FE;\n",
              "      border: none;\n",
              "      border-radius: 50%;\n",
              "      cursor: pointer;\n",
              "      display: none;\n",
              "      fill: #1967D2;\n",
              "      height: 32px;\n",
              "      padding: 0 0 0 0;\n",
              "      width: 32px;\n",
              "    }\n",
              "\n",
              "    .colab-df-convert:hover {\n",
              "      background-color: #E2EBFA;\n",
              "      box-shadow: 0px 1px 2px rgba(60, 64, 67, 0.3), 0px 1px 3px 1px rgba(60, 64, 67, 0.15);\n",
              "      fill: #174EA6;\n",
              "    }\n",
              "\n",
              "    .colab-df-buttons div {\n",
              "      margin-bottom: 4px;\n",
              "    }\n",
              "\n",
              "    [theme=dark] .colab-df-convert {\n",
              "      background-color: #3B4455;\n",
              "      fill: #D2E3FC;\n",
              "    }\n",
              "\n",
              "    [theme=dark] .colab-df-convert:hover {\n",
              "      background-color: #434B5C;\n",
              "      box-shadow: 0px 1px 3px 1px rgba(0, 0, 0, 0.15);\n",
              "      filter: drop-shadow(0px 1px 2px rgba(0, 0, 0, 0.3));\n",
              "      fill: #FFFFFF;\n",
              "    }\n",
              "  </style>\n",
              "\n",
              "    <script>\n",
              "      const buttonEl =\n",
              "        document.querySelector('#df-209e591e-f959-4fe2-9b17-d48dbd51e733 button.colab-df-convert');\n",
              "      buttonEl.style.display =\n",
              "        google.colab.kernel.accessAllowed ? 'block' : 'none';\n",
              "\n",
              "      async function convertToInteractive(key) {\n",
              "        const element = document.querySelector('#df-209e591e-f959-4fe2-9b17-d48dbd51e733');\n",
              "        const dataTable =\n",
              "          await google.colab.kernel.invokeFunction('convertToInteractive',\n",
              "                                                    [key], {});\n",
              "        if (!dataTable) return;\n",
              "\n",
              "        const docLinkHtml = 'Like what you see? Visit the ' +\n",
              "          '<a target=\"_blank\" href=https://colab.research.google.com/notebooks/data_table.ipynb>data table notebook</a>'\n",
              "          + ' to learn more about interactive tables.';\n",
              "        element.innerHTML = '';\n",
              "        dataTable['output_type'] = 'display_data';\n",
              "        await google.colab.output.renderOutput(dataTable, element);\n",
              "        const docLink = document.createElement('div');\n",
              "        docLink.innerHTML = docLinkHtml;\n",
              "        element.appendChild(docLink);\n",
              "      }\n",
              "    </script>\n",
              "  </div>\n",
              "\n",
              "\n",
              "<div id=\"df-a4148e89-f6dc-4956-9576-f1ece9e64633\">\n",
              "  <button class=\"colab-df-quickchart\" onclick=\"quickchart('df-a4148e89-f6dc-4956-9576-f1ece9e64633')\"\n",
              "            title=\"Suggest charts\"\n",
              "            style=\"display:none;\">\n",
              "\n",
              "<svg xmlns=\"http://www.w3.org/2000/svg\" height=\"24px\"viewBox=\"0 0 24 24\"\n",
              "     width=\"24px\">\n",
              "    <g>\n",
              "        <path d=\"M19 3H5c-1.1 0-2 .9-2 2v14c0 1.1.9 2 2 2h14c1.1 0 2-.9 2-2V5c0-1.1-.9-2-2-2zM9 17H7v-7h2v7zm4 0h-2V7h2v10zm4 0h-2v-4h2v4z\"/>\n",
              "    </g>\n",
              "</svg>\n",
              "  </button>\n",
              "\n",
              "<style>\n",
              "  .colab-df-quickchart {\n",
              "      --bg-color: #E8F0FE;\n",
              "      --fill-color: #1967D2;\n",
              "      --hover-bg-color: #E2EBFA;\n",
              "      --hover-fill-color: #174EA6;\n",
              "      --disabled-fill-color: #AAA;\n",
              "      --disabled-bg-color: #DDD;\n",
              "  }\n",
              "\n",
              "  [theme=dark] .colab-df-quickchart {\n",
              "      --bg-color: #3B4455;\n",
              "      --fill-color: #D2E3FC;\n",
              "      --hover-bg-color: #434B5C;\n",
              "      --hover-fill-color: #FFFFFF;\n",
              "      --disabled-bg-color: #3B4455;\n",
              "      --disabled-fill-color: #666;\n",
              "  }\n",
              "\n",
              "  .colab-df-quickchart {\n",
              "    background-color: var(--bg-color);\n",
              "    border: none;\n",
              "    border-radius: 50%;\n",
              "    cursor: pointer;\n",
              "    display: none;\n",
              "    fill: var(--fill-color);\n",
              "    height: 32px;\n",
              "    padding: 0;\n",
              "    width: 32px;\n",
              "  }\n",
              "\n",
              "  .colab-df-quickchart:hover {\n",
              "    background-color: var(--hover-bg-color);\n",
              "    box-shadow: 0 1px 2px rgba(60, 64, 67, 0.3), 0 1px 3px 1px rgba(60, 64, 67, 0.15);\n",
              "    fill: var(--button-hover-fill-color);\n",
              "  }\n",
              "\n",
              "  .colab-df-quickchart-complete:disabled,\n",
              "  .colab-df-quickchart-complete:disabled:hover {\n",
              "    background-color: var(--disabled-bg-color);\n",
              "    fill: var(--disabled-fill-color);\n",
              "    box-shadow: none;\n",
              "  }\n",
              "\n",
              "  .colab-df-spinner {\n",
              "    border: 2px solid var(--fill-color);\n",
              "    border-color: transparent;\n",
              "    border-bottom-color: var(--fill-color);\n",
              "    animation:\n",
              "      spin 1s steps(1) infinite;\n",
              "  }\n",
              "\n",
              "  @keyframes spin {\n",
              "    0% {\n",
              "      border-color: transparent;\n",
              "      border-bottom-color: var(--fill-color);\n",
              "      border-left-color: var(--fill-color);\n",
              "    }\n",
              "    20% {\n",
              "      border-color: transparent;\n",
              "      border-left-color: var(--fill-color);\n",
              "      border-top-color: var(--fill-color);\n",
              "    }\n",
              "    30% {\n",
              "      border-color: transparent;\n",
              "      border-left-color: var(--fill-color);\n",
              "      border-top-color: var(--fill-color);\n",
              "      border-right-color: var(--fill-color);\n",
              "    }\n",
              "    40% {\n",
              "      border-color: transparent;\n",
              "      border-right-color: var(--fill-color);\n",
              "      border-top-color: var(--fill-color);\n",
              "    }\n",
              "    60% {\n",
              "      border-color: transparent;\n",
              "      border-right-color: var(--fill-color);\n",
              "    }\n",
              "    80% {\n",
              "      border-color: transparent;\n",
              "      border-right-color: var(--fill-color);\n",
              "      border-bottom-color: var(--fill-color);\n",
              "    }\n",
              "    90% {\n",
              "      border-color: transparent;\n",
              "      border-bottom-color: var(--fill-color);\n",
              "    }\n",
              "  }\n",
              "</style>\n",
              "\n",
              "  <script>\n",
              "    async function quickchart(key) {\n",
              "      const quickchartButtonEl =\n",
              "        document.querySelector('#' + key + ' button');\n",
              "      quickchartButtonEl.disabled = true;  // To prevent multiple clicks.\n",
              "      quickchartButtonEl.classList.add('colab-df-spinner');\n",
              "      try {\n",
              "        const charts = await google.colab.kernel.invokeFunction(\n",
              "            'suggestCharts', [key], {});\n",
              "      } catch (error) {\n",
              "        console.error('Error during call to suggestCharts:', error);\n",
              "      }\n",
              "      quickchartButtonEl.classList.remove('colab-df-spinner');\n",
              "      quickchartButtonEl.classList.add('colab-df-quickchart-complete');\n",
              "    }\n",
              "    (() => {\n",
              "      let quickchartButtonEl =\n",
              "        document.querySelector('#df-a4148e89-f6dc-4956-9576-f1ece9e64633 button');\n",
              "      quickchartButtonEl.style.display =\n",
              "        google.colab.kernel.accessAllowed ? 'block' : 'none';\n",
              "    })();\n",
              "  </script>\n",
              "</div>\n",
              "\n",
              "    </div>\n",
              "  </div>\n"
            ],
            "text/plain": [
              "          ID damage                                      filename\n",
              "0  ID_UBHORS     WD  d036341be8d6cd59851cb80bcc9a70cc9fbdba30.jpg\n",
              "1  ID_9DSOLZ      G  9ea16180c50d0cd539897eefbfe585314e50a56b.jpg\n",
              "2  ID_JHLM0G      G  b6b564844041bc68774a553eaf43d61654657dd9.jpg\n",
              "3  ID_ATREIJ     DR  62262859f0cd411aaf484082ed3ef0b625bc452a.jpg\n",
              "4  ID_L2GAD6      G  03b6e2a8ace7cb611eccba289f3c83d9bd497584.jpg"
            ]
          },
          "execution_count": 6,
          "metadata": {},
          "output_type": "execute_result"
        }
      ],
      "source": [
        "Train.head()"
      ]
    },
    {
      "cell_type": "code",
      "execution_count": 7,
      "id": "3fff3f1c-56f0-49f7-8e10-fb62a369234a",
      "metadata": {
        "colab": {
          "base_uri": "https://localhost:8080/"
        },
        "execution": {
          "iopub.execute_input": "2024-01-31T12:35:26.295231Z",
          "iopub.status.busy": "2024-01-31T12:35:26.294549Z",
          "iopub.status.idle": "2024-01-31T12:35:26.315266Z",
          "shell.execute_reply": "2024-01-31T12:35:26.314377Z",
          "shell.execute_reply.started": "2024-01-31T12:35:26.295186Z"
        },
        "id": "3fff3f1c-56f0-49f7-8e10-fb62a369234a",
        "outputId": "663f8255-829e-466c-c666-3b05baf587e6",
        "tags": []
      },
      "outputs": [
        {
          "data": {
            "text/plain": [
              "(G     11623\n",
              " WD     9238\n",
              " DR     4516\n",
              " Name: damage, dtype: int64,\n",
              " ID          25377\n",
              " damage      25377\n",
              " filename    25377\n",
              " dtype: int64)"
            ]
          },
          "execution_count": 7,
          "metadata": {},
          "output_type": "execute_result"
        }
      ],
      "source": [
        "Train.damage.value_counts(),Train.count()"
      ]
    },
    {
      "cell_type": "code",
      "execution_count": 8,
      "id": "df9cc2bb-3ea4-4477-8259-4eccadfb0332",
      "metadata": {
        "colab": {
          "base_uri": "https://localhost:8080/"
        },
        "execution": {
          "iopub.execute_input": "2024-01-31T12:35:26.316510Z",
          "iopub.status.busy": "2024-01-31T12:35:26.316195Z",
          "iopub.status.idle": "2024-01-31T12:35:26.325621Z",
          "shell.execute_reply": "2024-01-31T12:35:26.324941Z",
          "shell.execute_reply.started": "2024-01-31T12:35:26.316485Z"
        },
        "id": "df9cc2bb-3ea4-4477-8259-4eccadfb0332",
        "outputId": "5e4bb7e1-a286-4c97-84ee-2940456a1bc6",
        "tags": []
      },
      "outputs": [
        {
          "data": {
            "text/plain": [
              "(          ID                                      filename\n",
              " 0  ID_QW9GQM  03428805a0d7d269b422dbfafb3f86cb394a0491.jpg\n",
              " 1  ID_G9VPQ9  5dcf4f5d82708496ad7c3227ccbc8af5058aa227.jpg\n",
              " 2  ID_QIMIEM  4e835aa40e4aafa24db13cba4182094eb9e5eb79.jpg\n",
              " 3  ID_TSINUQ  1e0dbb8669385be73a480ce108d12bdc4354f120.jpg\n",
              " 4  ID_I7OOHH  3d05e31502f9f00ce25770666c73af5f323a8b3a.jpg,\n",
              " ID          8663\n",
              " filename    8663\n",
              " dtype: int64)"
            ]
          },
          "execution_count": 8,
          "metadata": {},
          "output_type": "execute_result"
        }
      ],
      "source": [
        "Test.head(),Test.count()"
      ]
    },
    {
      "cell_type": "code",
      "execution_count": 9,
      "id": "5a93c891-8fac-442c-8cee-6698d4302d36",
      "metadata": {
        "colab": {
          "base_uri": "https://localhost:8080/"
        },
        "execution": {
          "iopub.execute_input": "2024-01-31T12:35:26.326721Z",
          "iopub.status.busy": "2024-01-31T12:35:26.326495Z",
          "iopub.status.idle": "2024-01-31T12:35:26.358074Z",
          "shell.execute_reply": "2024-01-31T12:35:26.357505Z",
          "shell.execute_reply.started": "2024-01-31T12:35:26.326698Z"
        },
        "id": "5a93c891-8fac-442c-8cee-6698d4302d36",
        "outputId": "f89fa680-b437-4fae-c7cc-d86ca8fa6550",
        "tags": []
      },
      "outputs": [
        {
          "data": {
            "text/plain": [
              "ID         filename                                    \n",
              "ID_00131R  b6db4273a8ccbd10baec9a934fd99670961f1e13.jpg    1\n",
              "ID_O2NKQG  8c306c0a4656f9dbc474bbf23dc65ccd1f880379.jpg    1\n",
              "ID_O4VJQX  c66a2e776b11ee1af7b485ae49618b92c7534582.jpg    1\n",
              "ID_O4SLAL  fb39c670af6339e74b87fe9a199a0b4b33e94cb9.jpg    1\n",
              "ID_O4E311  1a77d096f24a9225696d75f6050d330bbe28cfc4.jpg    1\n",
              "                                                          ..\n",
              "ID_BVRNBL  be902cacbbbe55142e37761a61ae65876ef409ee.jpg    1\n",
              "ID_BVRCGE  d448b2171896504f53453f402d7240c1809c4014.jpg    1\n",
              "ID_BVNXSJ  85dcb111bc3fa1db98ac81a36121007c7cbeece4.jpg    1\n",
              "ID_BVBSON  751da8b794180a24bc89ed56bc3d8f94bfe7adc7.jpg    1\n",
              "ID_ZZXQ33  99c74a1100cc5a1c208c4f677d4ed35e9c7a18eb.jpg    1\n",
              "Length: 8663, dtype: int64"
            ]
          },
          "execution_count": 9,
          "metadata": {},
          "output_type": "execute_result"
        }
      ],
      "source": [
        "Test.value_counts()"
      ]
    },
    {
      "cell_type": "code",
      "execution_count": 11,
      "id": "45f6eea3-9c59-48e3-b45e-fb0d98798b8b",
      "metadata": {
        "execution": {
          "iopub.execute_input": "2024-01-31T12:35:26.368240Z",
          "iopub.status.busy": "2024-01-31T12:35:26.367930Z",
          "iopub.status.idle": "2024-01-31T12:35:26.373434Z",
          "shell.execute_reply": "2024-01-31T12:35:26.372740Z",
          "shell.execute_reply.started": "2024-01-31T12:35:26.368213Z"
        },
        "id": "45f6eea3-9c59-48e3-b45e-fb0d98798b8b",
        "tags": []
      },
      "outputs": [],
      "source": [
        "damage = Train.damage.unique()"
      ]
    },
    {
      "cell_type": "code",
      "execution_count": 13,
      "id": "a0f25590-bec1-42a2-aa28-f542e09d8518",
      "metadata": {
        "colab": {
          "base_uri": "https://localhost:8080/"
        },
        "execution": {
          "iopub.execute_input": "2024-01-31T12:35:26.385828Z",
          "iopub.status.busy": "2024-01-31T12:35:26.385512Z",
          "iopub.status.idle": "2024-01-31T12:35:26.390227Z",
          "shell.execute_reply": "2024-01-31T12:35:26.389561Z",
          "shell.execute_reply.started": "2024-01-31T12:35:26.385799Z"
        },
        "id": "a0f25590-bec1-42a2-aa28-f542e09d8518",
        "outputId": "f9df13e8-cad9-46d3-b890-8d46cb1ec194",
        "tags": []
      },
      "outputs": [
        {
          "data": {
            "text/plain": [
              "array(['WD', 'G', 'DR'], dtype=object)"
            ]
          },
          "execution_count": 13,
          "metadata": {},
          "output_type": "execute_result"
        }
      ],
      "source": [
        "damage"
      ]
    },
    {
      "cell_type": "code",
      "execution_count": 14,
      "id": "39bc5cf4-07d1-4181-b403-a13529301009",
      "metadata": {
        "execution": {
          "iopub.execute_input": "2024-01-31T12:35:26.391899Z",
          "iopub.status.busy": "2024-01-31T12:35:26.391414Z",
          "iopub.status.idle": "2024-01-31T12:35:46.503806Z",
          "shell.execute_reply": "2024-01-31T12:35:46.503162Z",
          "shell.execute_reply.started": "2024-01-31T12:35:26.391859Z"
        },
        "id": "39bc5cf4-07d1-4181-b403-a13529301009",
        "tags": []
      },
      "outputs": [],
      "source": [
        "import tensorflow as tf\n",
        "from keras import Sequential, Model\n",
        "from keras.activations import softmax\n",
        "from keras.optimizers import Adam\n",
        "from keras.preprocessing.image import ImageDataGenerator\n",
        "from keras.layers import Input , Dense , Flatten , GlobalAveragePooling2D,LeakyReLU"
      ]
    },
    {
      "cell_type": "code",
      "execution_count": 15,
      "id": "f94cea4f-8483-4468-90d1-a7fd00e5475b",
      "metadata": {
        "execution": {
          "iopub.execute_input": "2024-01-31T12:35:46.506078Z",
          "iopub.status.busy": "2024-01-31T12:35:46.504968Z",
          "iopub.status.idle": "2024-01-31T12:35:46.511024Z",
          "shell.execute_reply": "2024-01-31T12:35:46.510288Z",
          "shell.execute_reply.started": "2024-01-31T12:35:46.506033Z"
        },
        "id": "f94cea4f-8483-4468-90d1-a7fd00e5475b",
        "tags": []
      },
      "outputs": [],
      "source": [
        "labels_train = Train.iloc[:, 2]\n",
        "filenames_train = Train.iloc[:, -1]\n",
        "# labels_test = Test.iloc[:, 2]\n",
        "filenames_test = Test.iloc[:, -1]\n",
        "# Test.head()"
      ]
    },
    {
      "cell_type": "code",
      "execution_count": 16,
      "id": "a9d3cdd4-43c0-4182-992d-e15b516ab34b",
      "metadata": {
        "colab": {
          "base_uri": "https://localhost:8080/"
        },
        "execution": {
          "iopub.execute_input": "2024-01-31T12:35:46.512598Z",
          "iopub.status.busy": "2024-01-31T12:35:46.512078Z",
          "iopub.status.idle": "2024-01-31T12:35:46.517148Z",
          "shell.execute_reply": "2024-01-31T12:35:46.516438Z",
          "shell.execute_reply.started": "2024-01-31T12:35:46.512559Z"
        },
        "id": "a9d3cdd4-43c0-4182-992d-e15b516ab34b",
        "outputId": "3547fe3c-7984-438f-e617-3e141bdd365d",
        "tags": []
      },
      "outputs": [
        {
          "data": {
            "text/plain": [
              "3"
            ]
          },
          "execution_count": 16,
          "metadata": {},
          "output_type": "execute_result"
        }
      ],
      "source": [
        "n=len(damage)\n",
        "n"
      ]
    },
    {
      "cell_type": "code",
      "execution_count": 17,
      "id": "f4883909-3c95-4203-9b3e-27fb51e09e34",
      "metadata": {
        "execution": {
          "iopub.execute_input": "2024-01-31T12:35:46.518865Z",
          "iopub.status.busy": "2024-01-31T12:35:46.518226Z",
          "iopub.status.idle": "2024-01-31T12:35:46.522363Z",
          "shell.execute_reply": "2024-01-31T12:35:46.521629Z",
          "shell.execute_reply.started": "2024-01-31T12:35:46.518829Z"
        },
        "id": "f4883909-3c95-4203-9b3e-27fb51e09e34",
        "tags": []
      },
      "outputs": [],
      "source": [
        "data_dir = BASE_DIR+'cgiar-crop-damage-classification-challenge/images/images/'"
      ]
    },
    {
      "cell_type": "code",
      "execution_count": 18,
      "id": "fb88aab3-c058-40e0-9c0b-03e6ba010d83",
      "metadata": {
        "colab": {
          "base_uri": "https://localhost:8080/"
        },
        "execution": {
          "iopub.execute_input": "2024-01-31T12:35:46.524023Z",
          "iopub.status.busy": "2024-01-31T12:35:46.523393Z",
          "iopub.status.idle": "2024-01-31T12:37:11.992644Z",
          "shell.execute_reply": "2024-01-31T12:37:11.991870Z",
          "shell.execute_reply.started": "2024-01-31T12:35:46.523986Z"
        },
        "id": "fb88aab3-c058-40e0-9c0b-03e6ba010d83",
        "outputId": "cb4c7cea-ecc6-4449-ab56-4b2a5cd47640",
        "tags": []
      },
      "outputs": [
        {
          "name": "stdout",
          "output_type": "stream",
          "text": [
            "Found 21568 validated image filenames belonging to 3 classes.\n"
          ]
        },
        {
          "name": "stderr",
          "output_type": "stream",
          "text": [
            "/usr/local/lib/python3.10/dist-packages/keras/src/preprocessing/image.py:1137: UserWarning: Found 3 invalid image filename(s) in x_col=\"filename\". These filename(s) will be ignored.\n",
            "  warnings.warn(\n"
          ]
        },
        {
          "name": "stdout",
          "output_type": "stream",
          "text": [
            "Found 3806 validated image filenames belonging to 3 classes.\n"
          ]
        }
      ],
      "source": [
        "import cv2\n",
        "def preprocess_input(img):\n",
        "   img = cv2.cvtColor(img, cv2.COLOR_RGB2BGR)\n",
        "   return img\n",
        "train_datagen = ImageDataGenerator(\n",
        "                                    # rescale=1./255,\n",
        "                                   # preprocessing_function=tf.keras.applications.xception.preprocess_input,\n",
        "                                  preprocessing_function=tf.keras.applications.mobilenet.preprocess_input,\n",
        "                                  rotation_range=10,\n",
        "                                  width_shift_range = 0.1,\n",
        "                                  height_shift_range=0.1,\n",
        "                                  shear_range=0.1,\n",
        "                                  zoom_range=0.1,\n",
        "                                  horizontal_flip=True,\n",
        "                                  validation_split=0.15)\n",
        "\n",
        "train_generator = train_datagen.flow_from_dataframe(\n",
        "   dataframe=Train,\n",
        "   directory=data_dir,\n",
        "   x_col='filename',\n",
        "   y_col='damage',\n",
        "   target_size=(256, 256),\n",
        "   class_mode='categorical',\n",
        "   subset='training',\n",
        "   shuffle=False,\n",
        "   batch_size=32)\n",
        "\n",
        "validation_generator = train_datagen.flow_from_dataframe(\n",
        "   dataframe=Train,\n",
        "   directory=data_dir,\n",
        "   x_col='filename',\n",
        "   y_col='damage',\n",
        "   target_size=(256, 256),\n",
        "   class_mode='categorical',\n",
        "   subset='validation',\n",
        "   shuffle=False,\n",
        "   batch_size=32)\n"
      ]
    },
    {
      "cell_type": "code",
      "execution_count": 19,
      "id": "49ce28fb-847a-4a11-89ea-75d665bce46b",
      "metadata": {
        "colab": {
          "base_uri": "https://localhost:8080/"
        },
        "execution": {
          "iopub.execute_input": "2024-01-31T12:37:11.993983Z",
          "iopub.status.busy": "2024-01-31T12:37:11.993663Z",
          "iopub.status.idle": "2024-01-31T12:37:33.040298Z",
          "shell.execute_reply": "2024-01-31T12:37:33.039388Z",
          "shell.execute_reply.started": "2024-01-31T12:37:11.993952Z"
        },
        "id": "49ce28fb-847a-4a11-89ea-75d665bce46b",
        "outputId": "02a91846-473f-43ac-bdc2-722c99967295",
        "tags": []
      },
      "outputs": [
        {
          "name": "stdout",
          "output_type": "stream",
          "text": [
            "Found 8663 validated image filenames.\n"
          ]
        }
      ],
      "source": [
        "submission_generator = ImageDataGenerator(preprocessing_function=tf.keras.applications.mobilenet.preprocess_input).flow_from_dataframe(\n",
        "   dataframe=Test,\n",
        "   directory=data_dir,\n",
        "   target_size=(256, 256),\n",
        "   shuffle=False,\n",
        "   batch_size=32,\n",
        "   class_mode=None # No labels\n",
        ")"
      ]
    },
    {
      "cell_type": "code",
      "execution_count": 20,
      "id": "fad75f9d-e229-4fd4-a4d0-2965410bf2aa",
      "metadata": {
        "colab": {
          "base_uri": "https://localhost:8080/"
        },
        "execution": {
          "iopub.execute_input": "2024-01-31T12:37:33.042020Z",
          "iopub.status.busy": "2024-01-31T12:37:33.041649Z",
          "iopub.status.idle": "2024-01-31T12:37:33.047388Z",
          "shell.execute_reply": "2024-01-31T12:37:33.046723Z",
          "shell.execute_reply.started": "2024-01-31T12:37:33.041979Z"
        },
        "id": "fad75f9d-e229-4fd4-a4d0-2965410bf2aa",
        "outputId": "1e2d480f-1fac-4131-d362-205e7fd4943c",
        "tags": []
      },
      "outputs": [
        {
          "data": {
            "text/plain": [
              "<keras.src.preprocessing.image.DataFrameIterator at 0x7ab16a81f1c0>"
            ]
          },
          "execution_count": 20,
          "metadata": {},
          "output_type": "execute_result"
        }
      ],
      "source": [
        "submission_generator"
      ]
    },
    {
      "cell_type": "code",
      "execution_count": 21,
      "id": "ca5147a9-2121-4216-97e7-2bedad75d3bb",
      "metadata": {
        "colab": {
          "base_uri": "https://localhost:8080/"
        },
        "execution": {
          "iopub.execute_input": "2024-01-31T12:37:33.048708Z",
          "iopub.status.busy": "2024-01-31T12:37:33.048382Z",
          "iopub.status.idle": "2024-01-31T12:37:33.054288Z",
          "shell.execute_reply": "2024-01-31T12:37:33.053104Z",
          "shell.execute_reply.started": "2024-01-31T12:37:33.048668Z"
        },
        "id": "ca5147a9-2121-4216-97e7-2bedad75d3bb",
        "outputId": "7f75fff3-4647-4c4f-ad7c-732af50fcd45",
        "tags": []
      },
      "outputs": [
        {
          "data": {
            "text/plain": [
              "{'DR': 0, 'G': 1, 'WD': 2}"
            ]
          },
          "execution_count": 21,
          "metadata": {},
          "output_type": "execute_result"
        }
      ],
      "source": [
        "validation_generator.class_indices"
      ]
    },
    {
      "cell_type": "code",
      "execution_count": 22,
      "id": "19f91158-6fe6-427f-aee4-16e259bd18c5",
      "metadata": {
        "colab": {
          "base_uri": "https://localhost:8080/"
        },
        "execution": {
          "iopub.execute_input": "2024-01-31T12:37:33.056057Z",
          "iopub.status.busy": "2024-01-31T12:37:33.055652Z",
          "iopub.status.idle": "2024-01-31T12:37:34.437499Z",
          "shell.execute_reply": "2024-01-31T12:37:34.436839Z",
          "shell.execute_reply.started": "2024-01-31T12:37:33.056018Z"
        },
        "id": "19f91158-6fe6-427f-aee4-16e259bd18c5",
        "outputId": "3fc2096a-1c1f-4d13-b0ac-4d6f724555fc",
        "tags": []
      },
      "outputs": [
        {
          "name": "stderr",
          "output_type": "stream",
          "text": [
            "WARNING:tensorflow:`input_shape` is undefined or non-square, or `rows` is not in [128, 160, 192, 224]. Weights for input shape (224, 224) will be loaded as the default.\n"
          ]
        },
        {
          "name": "stdout",
          "output_type": "stream",
          "text": [
            "Downloading data from https://storage.googleapis.com/tensorflow/keras-applications/mobilenet/mobilenet_1_0_224_tf_no_top.h5\n",
            "17225924/17225924 [==============================] - 0s 0us/step\n"
          ]
        }
      ],
      "source": [
        "base_model = tf.keras.applications.MobileNet(weights='imagenet', include_top=False, input_shape=(256, 256, 3)) # 224 224 3\n",
        "# base_model.trainable = False\n",
        "model = Sequential()\n",
        "model.add(base_model)\n",
        "model.add(GlobalAveragePooling2D())\n",
        "model.add(Flatten())\n",
        "model.add(Dense(1024,activation='relu'))\n",
        "# model.add(LeakyReLU(alpha=0.2))\n",
        "model.add(Dense(512,activation='relu'))\n",
        "# model.add(LeakyReLU(alpha=0.2))\n",
        "model.add(Dense(n, activation=\"softmax\" , name=\"classification\"))"
      ]
    },
    {
      "cell_type": "code",
      "execution_count": 23,
      "id": "40abe232-4a66-492a-85c0-199048e6a026",
      "metadata": {
        "colab": {
          "base_uri": "https://localhost:8080/"
        },
        "execution": {
          "iopub.execute_input": "2024-01-31T12:37:34.438788Z",
          "iopub.status.busy": "2024-01-31T12:37:34.438458Z",
          "iopub.status.idle": "2024-01-31T12:37:34.474274Z",
          "shell.execute_reply": "2024-01-31T12:37:34.473610Z",
          "shell.execute_reply.started": "2024-01-31T12:37:34.438760Z"
        },
        "id": "40abe232-4a66-492a-85c0-199048e6a026",
        "outputId": "e6b1ef32-7542-4f35-b1df-fbaeb6244666",
        "tags": []
      },
      "outputs": [
        {
          "name": "stdout",
          "output_type": "stream",
          "text": [
            "Model: \"sequential\"\n",
            "_________________________________________________________________\n",
            " Layer (type)                Output Shape              Param #   \n",
            "=================================================================\n",
            " mobilenet_1.00_224 (Functi  (None, 8, 8, 1024)        3228864   \n",
            " onal)                                                           \n",
            "                                                                 \n",
            " global_average_pooling2d (  (None, 1024)              0         \n",
            " GlobalAveragePooling2D)                                         \n",
            "                                                                 \n",
            " flatten (Flatten)           (None, 1024)              0         \n",
            "                                                                 \n",
            " dense (Dense)               (None, 1024)              1049600   \n",
            "                                                                 \n",
            " dense_1 (Dense)             (None, 512)               524800    \n",
            "                                                                 \n",
            " classification (Dense)      (None, 3)                 1539      \n",
            "                                                                 \n",
            "=================================================================\n",
            "Total params: 4804803 (18.33 MB)\n",
            "Trainable params: 4782915 (18.25 MB)\n",
            "Non-trainable params: 21888 (85.50 KB)\n",
            "_________________________________________________________________\n"
          ]
        }
      ],
      "source": [
        "model.compile(\n",
        "            optimizer=tf.keras.optimizers.SGD(learning_rate=0.0007,momentum=0.9),\n",
        "            # optimizer=tf.keras.optimizers.Adam(amsgrad=True),\n",
        "            loss='categorical_crossentropy',\n",
        "            metrics = ['accuracy'])\n",
        "\n",
        "model.summary()"
      ]
    },
    {
      "cell_type": "code",
      "execution_count": 24,
      "id": "c4facba7-4bae-4f7f-a537-4dedd39a5174",
      "metadata": {
        "execution": {
          "iopub.execute_input": "2024-01-31T12:37:34.475452Z",
          "iopub.status.busy": "2024-01-31T12:37:34.475156Z",
          "iopub.status.idle": "2024-01-31T12:37:34.479047Z",
          "shell.execute_reply": "2024-01-31T12:37:34.478294Z",
          "shell.execute_reply.started": "2024-01-31T12:37:34.475426Z"
        },
        "id": "c4facba7-4bae-4f7f-a537-4dedd39a5174",
        "tags": []
      },
      "outputs": [],
      "source": [
        "logdir = BASE_DIR+'log'"
      ]
    },
    {
      "cell_type": "code",
      "execution_count": 25,
      "id": "070cb6a4-bd18-47a8-839b-fc9272895639",
      "metadata": {
        "execution": {
          "iopub.execute_input": "2024-01-31T12:37:34.480286Z",
          "iopub.status.busy": "2024-01-31T12:37:34.479996Z",
          "iopub.status.idle": "2024-01-31T12:37:34.484222Z",
          "shell.execute_reply": "2024-01-31T12:37:34.483569Z",
          "shell.execute_reply.started": "2024-01-31T12:37:34.480263Z"
        },
        "id": "070cb6a4-bd18-47a8-839b-fc9272895639",
        "tags": []
      },
      "outputs": [],
      "source": [
        "tensorboard_callback = tf.keras.callbacks.TensorBoard(log_dir=logdir)"
      ]
    },
    {
      "cell_type": "code",
      "execution_count": 26,
      "id": "5c8eb3ab-f51a-47d8-a00a-b34685869132",
      "metadata": {
        "execution": {
          "iopub.execute_input": "2024-01-31T12:37:34.485495Z",
          "iopub.status.busy": "2024-01-31T12:37:34.485130Z",
          "iopub.status.idle": "2024-01-31T12:37:34.491620Z",
          "shell.execute_reply": "2024-01-31T12:37:34.490844Z",
          "shell.execute_reply.started": "2024-01-31T12:37:34.485412Z"
        },
        "id": "5c8eb3ab-f51a-47d8-a00a-b34685869132",
        "tags": []
      },
      "outputs": [],
      "source": [
        "from keras.callbacks import EarlyStopping,ModelCheckpoint"
      ]
    },
    {
      "cell_type": "code",
      "execution_count": 27,
      "id": "3828ab72-fc70-4c51-8c14-d469c60af24f",
      "metadata": {
        "execution": {
          "iopub.execute_input": "2024-01-31T12:37:34.492807Z",
          "iopub.status.busy": "2024-01-31T12:37:34.492470Z",
          "iopub.status.idle": "2024-01-31T12:37:34.497158Z",
          "shell.execute_reply": "2024-01-31T12:37:34.496371Z",
          "shell.execute_reply.started": "2024-01-31T12:37:34.492781Z"
        },
        "id": "3828ab72-fc70-4c51-8c14-d469c60af24f",
        "tags": []
      },
      "outputs": [],
      "source": [
        "checkpoint_filepath=BASE_DIR+'weights/crop_damage_classification_best_model_withProcessing.hdf5'"
      ]
    },
    {
      "cell_type": "code",
      "execution_count": null,
      "id": "91e19b5b-2406-4848-816e-889465c0e34b",
      "metadata": {
        "execution": {
          "iopub.execute_input": "2024-01-31T12:37:48.339751Z",
          "iopub.status.busy": "2024-01-31T12:37:48.339358Z",
          "iopub.status.idle": "2024-01-31T12:37:48.343300Z",
          "shell.execute_reply": "2024-01-31T12:37:48.342538Z",
          "shell.execute_reply.started": "2024-01-31T12:37:48.339720Z"
        },
        "id": "91e19b5b-2406-4848-816e-889465c0e34b",
        "tags": []
      },
      "outputs": [],
      "source": [
        "# model.load_weights(checkpoint_filepath)"
      ]
    },
    {
      "cell_type": "code",
      "execution_count": 28,
      "id": "5b3a0fe6-beba-4887-b9f2-9226cb6679c5",
      "metadata": {
        "execution": {
          "iopub.execute_input": "2024-01-31T12:37:55.247914Z",
          "iopub.status.busy": "2024-01-31T12:37:55.247515Z",
          "iopub.status.idle": "2024-01-31T12:37:55.252154Z",
          "shell.execute_reply": "2024-01-31T12:37:55.251366Z",
          "shell.execute_reply.started": "2024-01-31T12:37:55.247884Z"
        },
        "id": "5b3a0fe6-beba-4887-b9f2-9226cb6679c5",
        "tags": []
      },
      "outputs": [],
      "source": [
        "early_stopping = EarlyStopping(monitor='val_loss', patience=10)\n",
        "model_checkpoint=ModelCheckpoint(filepath=checkpoint_filepath,\n",
        "                             monitor='val_loss',\n",
        "                             verbose=1,\n",
        "                             save_best_only=True,\n",
        "                             save_weights_only=True,\n",
        "                             save_freq='epoch',\n",
        "                             mode='min')"
      ]
    },
    {
      "cell_type": "code",
      "execution_count": 29,
      "id": "1c5d0254-97e4-43c5-af5a-8a4990cac894",
      "metadata": {
        "colab": {
          "base_uri": "https://localhost:8080/"
        },
        "execution": {
          "iopub.execute_input": "2024-01-31T12:38:01.883704Z",
          "iopub.status.busy": "2024-01-31T12:38:01.883314Z"
        },
        "id": "1c5d0254-97e4-43c5-af5a-8a4990cac894",
        "outputId": "37399309-43dd-41e6-f8ac-f3664831c519",
        "tags": []
      },
      "outputs": [
        {
          "name": "stdout",
          "output_type": "stream",
          "text": [
            "Epoch 1/15\n",
            "674/674 [==============================] - ETA: 0s - loss: 0.7942 - accuracy: 0.6271 \n",
            "Epoch 1: val_loss improved from inf to 0.67980, saving model to drive/MyDrive/kaggle/weights/crop_damage_classification_best_model_withProcessing.hdf5\n",
            "674/674 [==============================] - 8160s 12s/step - loss: 0.7942 - accuracy: 0.6271 - val_loss: 0.6798 - val_accuracy: 0.6931\n",
            "Epoch 2/15\n",
            "674/674 [==============================] - ETA: 0s - loss: 0.6686 - accuracy: 0.7030\n",
            "Epoch 2: val_loss improved from 0.67980 to 0.66340, saving model to drive/MyDrive/kaggle/weights/crop_damage_classification_best_model_withProcessing.hdf5\n",
            "674/674 [==============================] - 801s 1s/step - loss: 0.6686 - accuracy: 0.7030 - val_loss: 0.6634 - val_accuracy: 0.6978\n",
            "Epoch 3/15\n",
            "674/674 [==============================] - ETA: 0s - loss: 0.6293 - accuracy: 0.7194\n",
            "Epoch 3: val_loss improved from 0.66340 to 0.64473, saving model to drive/MyDrive/kaggle/weights/crop_damage_classification_best_model_withProcessing.hdf5\n",
            "674/674 [==============================] - 768s 1s/step - loss: 0.6293 - accuracy: 0.7194 - val_loss: 0.6447 - val_accuracy: 0.7191\n",
            "Epoch 4/15\n",
            "674/674 [==============================] - ETA: 0s - loss: 0.5946 - accuracy: 0.7381\n",
            "Epoch 4: val_loss improved from 0.64473 to 0.62581, saving model to drive/MyDrive/kaggle/weights/crop_damage_classification_best_model_withProcessing.hdf5\n",
            "674/674 [==============================] - 785s 1s/step - loss: 0.5946 - accuracy: 0.7381 - val_loss: 0.6258 - val_accuracy: 0.7233\n",
            "Epoch 5/15\n",
            "674/674 [==============================] - ETA: 0s - loss: 0.5703 - accuracy: 0.7497\n",
            "Epoch 5: val_loss did not improve from 0.62581\n",
            "674/674 [==============================] - 775s 1s/step - loss: 0.5703 - accuracy: 0.7497 - val_loss: 0.6260 - val_accuracy: 0.7270\n",
            "Epoch 6/15\n",
            "674/674 [==============================] - ETA: 0s - loss: 0.5486 - accuracy: 0.7596\n",
            "Epoch 6: val_loss improved from 0.62581 to 0.61245, saving model to drive/MyDrive/kaggle/weights/crop_damage_classification_best_model_withProcessing.hdf5\n",
            "674/674 [==============================] - 773s 1s/step - loss: 0.5486 - accuracy: 0.7596 - val_loss: 0.6124 - val_accuracy: 0.7346\n",
            "Epoch 7/15\n",
            "674/674 [==============================] - ETA: 0s - loss: 0.5215 - accuracy: 0.7744\n",
            "Epoch 7: val_loss did not improve from 0.61245\n",
            "674/674 [==============================] - 766s 1s/step - loss: 0.5215 - accuracy: 0.7744 - val_loss: 0.6798 - val_accuracy: 0.7120\n",
            "Epoch 8/15\n",
            "674/674 [==============================] - ETA: 0s - loss: 0.4969 - accuracy: 0.7881\n",
            "Epoch 8: val_loss did not improve from 0.61245\n",
            "674/674 [==============================] - 763s 1s/step - loss: 0.4969 - accuracy: 0.7881 - val_loss: 0.6520 - val_accuracy: 0.7239\n",
            "Epoch 9/15\n",
            "674/674 [==============================] - ETA: 0s - loss: 0.4749 - accuracy: 0.7961\n",
            "Epoch 9: val_loss did not improve from 0.61245\n",
            "674/674 [==============================] - 794s 1s/step - loss: 0.4749 - accuracy: 0.7961 - val_loss: 0.6481 - val_accuracy: 0.7220\n",
            "Epoch 10/15\n",
            "674/674 [==============================] - ETA: 0s - loss: 0.4502 - accuracy: 0.8084\n",
            "Epoch 10: val_loss did not improve from 0.61245\n",
            "674/674 [==============================] - 785s 1s/step - loss: 0.4502 - accuracy: 0.8084 - val_loss: 0.6337 - val_accuracy: 0.7331\n",
            "Epoch 11/15\n",
            "674/674 [==============================] - ETA: 0s - loss: 0.4227 - accuracy: 0.8223\n",
            "Epoch 11: val_loss did not improve from 0.61245\n",
            "674/674 [==============================] - 758s 1s/step - loss: 0.4227 - accuracy: 0.8223 - val_loss: 0.7174 - val_accuracy: 0.7026\n",
            "Epoch 12/15\n",
            "674/674 [==============================] - ETA: 0s - loss: 0.3992 - accuracy: 0.8351\n",
            "Epoch 12: val_loss did not improve from 0.61245\n",
            "674/674 [==============================] - 764s 1s/step - loss: 0.3992 - accuracy: 0.8351 - val_loss: 0.7046 - val_accuracy: 0.7149\n",
            "Epoch 13/15\n",
            "674/674 [==============================] - ETA: 0s - loss: 0.3731 - accuracy: 0.8429\n",
            "Epoch 13: val_loss did not improve from 0.61245\n",
            "674/674 [==============================] - 783s 1s/step - loss: 0.3731 - accuracy: 0.8429 - val_loss: 0.7061 - val_accuracy: 0.7236\n",
            "Epoch 14/15\n",
            "674/674 [==============================] - ETA: 0s - loss: 0.3445 - accuracy: 0.8584\n",
            "Epoch 14: val_loss did not improve from 0.61245\n",
            "674/674 [==============================] - 812s 1s/step - loss: 0.3445 - accuracy: 0.8584 - val_loss: 0.6985 - val_accuracy: 0.7299\n",
            "Epoch 15/15\n",
            "674/674 [==============================] - ETA: 0s - loss: 0.3163 - accuracy: 0.8693\n",
            "Epoch 15: val_loss did not improve from 0.61245\n",
            "674/674 [==============================] - 755s 1s/step - loss: 0.3163 - accuracy: 0.8693 - val_loss: 0.8256 - val_accuracy: 0.7152\n"
          ]
        }
      ],
      "source": [
        "history = model.fit(train_generator, validation_data = validation_generator, epochs = 15, callbacks=[tensorboard_callback, early_stopping,model_checkpoint])"
      ]
    },
    {
      "cell_type": "code",
      "execution_count": 31,
      "id": "799f7438-99ee-4089-9a29-a93c48671395",
      "metadata": {
        "colab": {
          "base_uri": "https://localhost:8080/",
          "height": 478
        },
        "execution": {
          "iopub.status.busy": "2024-01-31T12:37:35.275957Z",
          "iopub.status.idle": "2024-01-31T12:37:35.276278Z",
          "shell.execute_reply": "2024-01-31T12:37:35.276148Z",
          "shell.execute_reply.started": "2024-01-31T12:37:35.276133Z"
        },
        "id": "799f7438-99ee-4089-9a29-a93c48671395",
        "outputId": "143cfd22-ebd9-4c3e-f1c2-d7585dd399d7"
      },
      "outputs": [
        {
          "data": {
            "image/png": "[encoded data removed]",
            "text/plain": [
              "<Figure size 640x480 with 1 Axes>"
            ]
          },
          "metadata": {},
          "output_type": "display_data"
        }
      ],
      "source": [
        "import matplotlib.pyplot as plt\n",
        "fig = plt.figure()\n",
        "plt.plot(history.history['loss'], color='blue', label='loss')\n",
        "plt.plot(history.history['val_loss'], color='orange', label='val_loss')\n",
        "fig.suptitle(\"Loss\", fontsize=20)\n",
        "plt.legend(loc='upper right')\n",
        "plt.show()"
      ]
    },
    {
      "cell_type": "code",
      "execution_count": 32,
      "id": "b7b1b8bf-b70f-444a-8a26-71d77bafeeb1",
      "metadata": {
        "colab": {
          "base_uri": "https://localhost:8080/",
          "height": 478
        },
        "execution": {
          "iopub.status.busy": "2024-01-31T12:37:35.277324Z",
          "iopub.status.idle": "2024-01-31T12:37:35.277647Z",
          "shell.execute_reply": "2024-01-31T12:37:35.277511Z",
          "shell.execute_reply.started": "2024-01-31T12:37:35.277493Z"
        },
        "id": "b7b1b8bf-b70f-444a-8a26-71d77bafeeb1",
        "outputId": "a3b5ded7-c1be-476a-c09a-36ffa8390e57"
      },
      "outputs": [
        {
          "data": {
            "image/png": "[encoded data removed]",
            "text/plain": [
              "<Figure size 640x480 with 1 Axes>"
            ]
          },
          "metadata": {},
          "output_type": "display_data"
        }
      ],
      "source": [
        "fig = plt.figure()\n",
        "plt.plot(history.history['accuracy'], color='blue', label='Accuracy')\n",
        "plt.plot(history.history['val_accuracy'], color='orange', label='val_Accuracy')\n",
        "fig.suptitle(\"Accuracy\", fontsize=20)\n",
        "plt.legend(loc='upper left')\n",
        "plt.show()"
      ]
    },
    {
      "cell_type": "code",
      "execution_count": 33,
      "id": "b9c18480-a5b9-4104-86c3-8f835f9c4de6",
      "metadata": {
        "colab": {
          "base_uri": "https://localhost:8080/"
        },
        "execution": {
          "iopub.status.busy": "2024-01-31T12:37:35.278419Z",
          "iopub.status.idle": "2024-01-31T12:37:35.278747Z",
          "shell.execute_reply": "2024-01-31T12:37:35.278615Z",
          "shell.execute_reply.started": "2024-01-31T12:37:35.278600Z"
        },
        "id": "b9c18480-a5b9-4104-86c3-8f835f9c4de6",
        "outputId": "4ea4fbcf-9739-4b89-c830-ea9415436e0e",
        "tags": []
      },
      "outputs": [
        {
          "name": "stderr",
          "output_type": "stream",
          "text": [
            "<ipython-input-33-4c9399092695>:1: UserWarning: `Model.evaluate_generator` is deprecated and will be removed in a future version. Please use `Model.evaluate`, which supports generators.\n",
            "  predictions=model.evaluate_generator(validation_generator, 32)\n"
          ]
        },
        {
          "name": "stdout",
          "output_type": "stream",
          "text": [
            "[0.8390393853187561, 0.68359375]\n"
          ]
        }
      ],
      "source": [
        "predictions=model.evaluate_generator(validation_generator, 32)\n",
        "print(predictions)"
      ]
    },
    {
      "cell_type": "code",
      "execution_count": 34,
      "id": "3df2f8c2-0345-441b-91d5-9b854629c9b6",
      "metadata": {
        "execution": {
          "iopub.status.busy": "2024-01-31T12:37:35.279488Z",
          "iopub.status.idle": "2024-01-31T12:37:35.279773Z",
          "shell.execute_reply": "2024-01-31T12:37:35.279646Z",
          "shell.execute_reply.started": "2024-01-31T12:37:35.279632Z"
        },
        "id": "3df2f8c2-0345-441b-91d5-9b854629c9b6",
        "tags": []
      },
      "outputs": [],
      "source": [
        "import matplotlib.pyplot as plt\n",
        "#Plot the confusion matrix. Set Normalize = True/False\n",
        "def plot_confusion_matrix(cm, classes, normalize=True, title='Confusion matrix', cmap=plt.cm.Blues):\n",
        "    \"\"\"\n",
        "    This function prints and plots the confusion matrix.\n",
        "    Normalization can be applied by setting `normalize=True`.\n",
        "    \"\"\"\n",
        "    plt.figure(figsize=(20,20))\n",
        "    plt.imshow(cm, interpolation='nearest', cmap=cmap)\n",
        "    plt.title(title)\n",
        "    plt.colorbar()\n",
        "    tick_marks = np.arange(len(classes))\n",
        "    plt.xticks(tick_marks, classes, rotation=45)\n",
        "    plt.yticks(tick_marks, classes)\n",
        "    if normalize:\n",
        "        cm = cm.astype('float') / cm.sum(axis=1)[:, np.newaxis]\n",
        "        cm = np.around(cm, decimals=2)\n",
        "        cm[np.isnan(cm)] = 0.0\n",
        "        print(\"Normalized confusion matrix\")\n",
        "    else:\n",
        "        print('Confusion matrix, without normalization')\n",
        "    thresh = cm.max() / 2.\n",
        "    for i, j in itertools.product(range(cm.shape[0]), range(cm.shape[1])):\n",
        "        plt.text(j, i, cm[i, j],\n",
        "                 horizontalalignment=\"center\",\n",
        "                 color=\"white\" if cm[i, j] > thresh else \"black\")\n",
        "    plt.tight_layout()\n",
        "    plt.ylabel('True label')\n",
        "    plt.xlabel('Predicted label')\n",
        "#Print the Target names\n",
        "from sklearn.metrics import classification_report, confusion_matrix\n",
        "import itertools\n",
        "#shuffle=False\n",
        "target_names = []\n",
        "for key in train_generator.class_indices:\n",
        "    target_names.append(key)\n"
      ]
    },
    {
      "cell_type": "code",
      "execution_count": 36,
      "id": "304e6f07-1adc-4152-9a28-4b5138420f9b",
      "metadata": {
        "colab": {
          "base_uri": "https://localhost:8080/",
          "height": 1000
        },
        "execution": {
          "iopub.status.busy": "2024-01-31T12:37:35.280788Z",
          "iopub.status.idle": "2024-01-31T12:37:35.281090Z",
          "shell.execute_reply": "2024-01-31T12:37:35.280949Z",
          "shell.execute_reply.started": "2024-01-31T12:37:35.280935Z"
        },
        "id": "304e6f07-1adc-4152-9a28-4b5138420f9b",
        "outputId": "e5b7a536-8a8e-41a4-fbcc-eba3a69b45f8",
        "tags": []
      },
      "outputs": [
        {
          "name": "stderr",
          "output_type": "stream",
          "text": [
            "<ipython-input-36-55a6b2211154>:2: UserWarning: `Model.predict_generator` is deprecated and will be removed in a future version. Please use `Model.predict`, which supports generators.\n",
            "  Y_pred = model.predict_generator(validation_generator)\n"
          ]
        },
        {
          "name": "stdout",
          "output_type": "stream",
          "text": [
            "Confusion Matrix\n",
            "Normalized confusion matrix\n"
          ]
        },
        {
          "data": {
            "image/png": "[encoded data removed]",
            "text/plain": [
              "<Figure size 2000x2000 with 2 Axes>"
            ]
          },
          "metadata": {},
          "output_type": "display_data"
        }
      ],
      "source": [
        "import numpy as np\n",
        "Y_pred = model.predict_generator(validation_generator)\n",
        "y_pred = np.argmax(Y_pred, axis=1)\n",
        "print('Confusion Matrix')\n",
        "cm = confusion_matrix(validation_generator.classes, y_pred)\n",
        "plot_confusion_matrix(cm, target_names, title='Confusion Matrix')"
      ]
    },
    {
      "cell_type": "code",
      "execution_count": 37,
      "id": "8a927014-86aa-4078-92e6-1fa01e01beeb",
      "metadata": {
        "colab": {
          "base_uri": "https://localhost:8080/"
        },
        "execution": {
          "iopub.status.busy": "2024-01-31T12:37:35.281996Z",
          "iopub.status.idle": "2024-01-31T12:37:35.282288Z",
          "shell.execute_reply": "2024-01-31T12:37:35.282159Z",
          "shell.execute_reply.started": "2024-01-31T12:37:35.282144Z"
        },
        "id": "8a927014-86aa-4078-92e6-1fa01e01beeb",
        "outputId": "bb95ca23-b377-4df8-9dc8-72559ac4b973",
        "tags": []
      },
      "outputs": [
        {
          "name": "stdout",
          "output_type": "stream",
          "text": [
            "Classification Report\n",
            "              precision    recall  f1-score   support\n",
            "\n",
            "          DR       0.84      0.59      0.69       684\n",
            "           G       0.67      0.86      0.75      1752\n",
            "          WD       0.72      0.58      0.64      1370\n",
            "\n",
            "    accuracy                           0.71      3806\n",
            "   macro avg       0.74      0.67      0.70      3806\n",
            "weighted avg       0.72      0.71      0.70      3806\n",
            "\n"
          ]
        }
      ],
      "source": [
        "#Print Classification Report\n",
        "print('Classification Report')\n",
        "print(classification_report(validation_generator.classes, y_pred, target_names=target_names))"
      ]
    }
  ],
  "metadata": {
    "accelerator": "GPU",
    "colab": {
      "gpuType": "T4",
      "provenance": []
    },
    "kernelspec": {
      "display_name": "Python 3",
      "name": "python3"
    },
    "language_info": {
      "codemirror_mode": {
        "name": "ipython",
        "version": 3
      },
      "file_extension": ".py",
      "mimetype": "text/x-python",
      "name": "python",
      "nbconvert_exporter": "python",
      "pygments_lexer": "ipython3",
      "version": "3.8.10"
    }
  },
  "nbformat": 4,
  "nbformat_minor": 5
}
